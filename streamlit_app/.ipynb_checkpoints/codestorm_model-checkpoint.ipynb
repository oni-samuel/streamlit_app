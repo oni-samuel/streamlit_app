{
 "cells": [
  {
   "cell_type": "code",
   "execution_count": 5,
   "id": "2b643b49-c0ff-4c6b-9ef3-f1dc71e9026c",
   "metadata": {},
   "outputs": [],
   "source": [
    "import pandas as pd\n",
    "import numpy as np\n",
    "from sklearn.preprocessing import MinMaxScaler\n",
    "from sklearn.feature_selection import SelectKBest, chi2\n",
    "from sklearn.ensemble import RandomForestClassifier,RandomForestRegressor,GradientBoostingRegressor,GradientBoostingClassifier\n",
    "from sklearn.model_selection import train_test_split\n",
    "from sklearn.preprocessing import LabelEncoder\n",
    "from sklearn.metrics import classification_report, accuracy_score,confusion_matrix,mean_squared_error, r2_score,mean_absolute_error\n",
    "from imblearn.over_sampling import SMOTE\n",
    "from sklearn.model_selection import RandomizedSearchCV\n",
    "import joblib\n",
    "import matplotlib.pyplot as plt\n",
    "import seaborn as sns\n",
    "from scipy.stats import skew\n",
    "from xgboost import XGBRegressor\n",
    "from xgboost import XGBClassifier\n"
   ]
  },
  {
   "cell_type": "code",
   "execution_count": 25,
   "id": "95252ac1-5df1-4965-b2a5-1c45669104a5",
   "metadata": {},
   "outputs": [],
   "source": [
    "data=pd.read_csv(r\"C:\\Users\\HP\\Downloads\\GITHUB\\codestorm_hackathon\\data\\master_nigerian_farmer_data.csv\")"
   ]
  },
  {
   "cell_type": "code",
   "execution_count": 251,
   "id": "bfed4ec6-ed5b-4056-b047-289a6d8a91ce",
   "metadata": {},
   "outputs": [
    {
     "data": {
      "text/html": [
       "<div>\n",
       "<style scoped>\n",
       "    .dataframe tbody tr th:only-of-type {\n",
       "        vertical-align: middle;\n",
       "    }\n",
       "\n",
       "    .dataframe tbody tr th {\n",
       "        vertical-align: top;\n",
       "    }\n",
       "\n",
       "    .dataframe thead th {\n",
       "        text-align: right;\n",
       "    }\n",
       "</style>\n",
       "<table border=\"1\" class=\"dataframe\">\n",
       "  <thead>\n",
       "    <tr style=\"text-align: right;\">\n",
       "      <th></th>\n",
       "      <th>farmer_id</th>\n",
       "      <th>age</th>\n",
       "      <th>gender</th>\n",
       "      <th>education_category</th>\n",
       "      <th>education_level_years</th>\n",
       "      <th>marital_status</th>\n",
       "      <th>household_size</th>\n",
       "      <th>state</th>\n",
       "      <th>region</th>\n",
       "      <th>has_off_farm_income</th>\n",
       "      <th>...</th>\n",
       "      <th>requests_loan_now</th>\n",
       "      <th>loan_amount_requested_ngn</th>\n",
       "      <th>current_loan_purpose</th>\n",
       "      <th>current_loan_tenure_months</th>\n",
       "      <th>credit_score</th>\n",
       "      <th>creditworthiness_category</th>\n",
       "      <th>max_recommended_loan_ngn</th>\n",
       "      <th>suitable_loan_products</th>\n",
       "      <th>predicted_default_probability_current_loan</th>\n",
       "      <th>predicted_loan_repayment_outcome</th>\n",
       "    </tr>\n",
       "  </thead>\n",
       "  <tbody>\n",
       "    <tr>\n",
       "      <th>0</th>\n",
       "      <td>NGF000001</td>\n",
       "      <td>56</td>\n",
       "      <td>Male</td>\n",
       "      <td>Secondary Incomplete</td>\n",
       "      <td>9</td>\n",
       "      <td>Married</td>\n",
       "      <td>5</td>\n",
       "      <td>Benue</td>\n",
       "      <td>North Central</td>\n",
       "      <td>False</td>\n",
       "      <td>...</td>\n",
       "      <td>True</td>\n",
       "      <td>260000.0</td>\n",
       "      <td>Asset Acquisition</td>\n",
       "      <td>24</td>\n",
       "      <td>645</td>\n",
       "      <td>Good</td>\n",
       "      <td>646000.0</td>\n",
       "      <td>Input Finance, Microfinance Starter, Working C...</td>\n",
       "      <td>0.0919</td>\n",
       "      <td>Likely Full Repayment</td>\n",
       "    </tr>\n",
       "    <tr>\n",
       "      <th>1</th>\n",
       "      <td>NGF000002</td>\n",
       "      <td>54</td>\n",
       "      <td>Male</td>\n",
       "      <td>Primary Complete</td>\n",
       "      <td>6</td>\n",
       "      <td>Married</td>\n",
       "      <td>10</td>\n",
       "      <td>Nasarawa</td>\n",
       "      <td>North Central</td>\n",
       "      <td>True</td>\n",
       "      <td>...</td>\n",
       "      <td>True</td>\n",
       "      <td>1575000.0</td>\n",
       "      <td>Bundled Services Loan</td>\n",
       "      <td>12</td>\n",
       "      <td>581</td>\n",
       "      <td>Fair</td>\n",
       "      <td>2091000.0</td>\n",
       "      <td>Crop Insurance Partnership, Digital Finance So...</td>\n",
       "      <td>0.1141</td>\n",
       "      <td>Likely Full Repayment</td>\n",
       "    </tr>\n",
       "    <tr>\n",
       "      <th>2</th>\n",
       "      <td>NGF000003</td>\n",
       "      <td>62</td>\n",
       "      <td>Male</td>\n",
       "      <td>Primary Complete</td>\n",
       "      <td>6</td>\n",
       "      <td>Married</td>\n",
       "      <td>4</td>\n",
       "      <td>Katsina</td>\n",
       "      <td>North West</td>\n",
       "      <td>False</td>\n",
       "      <td>...</td>\n",
       "      <td>True</td>\n",
       "      <td>65000.0</td>\n",
       "      <td>Input Loan</td>\n",
       "      <td>9</td>\n",
       "      <td>585</td>\n",
       "      <td>Fair</td>\n",
       "      <td>258000.0</td>\n",
       "      <td>Crop Insurance Partnership, Digital Finance So...</td>\n",
       "      <td>0.1002</td>\n",
       "      <td>Likely Full Repayment</td>\n",
       "    </tr>\n",
       "    <tr>\n",
       "      <th>3</th>\n",
       "      <td>NGF000004</td>\n",
       "      <td>58</td>\n",
       "      <td>Male</td>\n",
       "      <td>Primary Complete</td>\n",
       "      <td>6</td>\n",
       "      <td>Married</td>\n",
       "      <td>12</td>\n",
       "      <td>FCT</td>\n",
       "      <td>North Central</td>\n",
       "      <td>False</td>\n",
       "      <td>...</td>\n",
       "      <td>False</td>\n",
       "      <td>0.0</td>\n",
       "      <td>NaN</td>\n",
       "      <td>0</td>\n",
       "      <td>523</td>\n",
       "      <td>Poor</td>\n",
       "      <td>627000.0</td>\n",
       "      <td>Digital Finance Solutions, Microfinance Starter</td>\n",
       "      <td>0.0000</td>\n",
       "      <td>NaN</td>\n",
       "    </tr>\n",
       "    <tr>\n",
       "      <th>4</th>\n",
       "      <td>NGF000005</td>\n",
       "      <td>53</td>\n",
       "      <td>Male</td>\n",
       "      <td>Secondary Complete</td>\n",
       "      <td>12</td>\n",
       "      <td>Married</td>\n",
       "      <td>3</td>\n",
       "      <td>Sokoto</td>\n",
       "      <td>North West</td>\n",
       "      <td>True</td>\n",
       "      <td>...</td>\n",
       "      <td>True</td>\n",
       "      <td>175000.0</td>\n",
       "      <td>Asset Acquisition</td>\n",
       "      <td>18</td>\n",
       "      <td>666</td>\n",
       "      <td>Very Good</td>\n",
       "      <td>392000.0</td>\n",
       "      <td>Digital Finance Solutions, Input Finance, Land...</td>\n",
       "      <td>0.0991</td>\n",
       "      <td>Likely Full Repayment</td>\n",
       "    </tr>\n",
       "  </tbody>\n",
       "</table>\n",
       "<p>5 rows × 85 columns</p>\n",
       "</div>"
      ],
      "text/plain": [
       "   farmer_id  age gender    education_category  education_level_years  \\\n",
       "0  NGF000001   56   Male  Secondary Incomplete                      9   \n",
       "1  NGF000002   54   Male      Primary Complete                      6   \n",
       "2  NGF000003   62   Male      Primary Complete                      6   \n",
       "3  NGF000004   58   Male      Primary Complete                      6   \n",
       "4  NGF000005   53   Male    Secondary Complete                     12   \n",
       "\n",
       "  marital_status  household_size     state         region  \\\n",
       "0        Married               5     Benue  North Central   \n",
       "1        Married              10  Nasarawa  North Central   \n",
       "2        Married               4   Katsina     North West   \n",
       "3        Married              12       FCT  North Central   \n",
       "4        Married               3    Sokoto     North West   \n",
       "\n",
       "   has_off_farm_income  ...  requests_loan_now  loan_amount_requested_ngn  \\\n",
       "0                False  ...               True                   260000.0   \n",
       "1                 True  ...               True                  1575000.0   \n",
       "2                False  ...               True                    65000.0   \n",
       "3                False  ...              False                        0.0   \n",
       "4                 True  ...               True                   175000.0   \n",
       "\n",
       "    current_loan_purpose current_loan_tenure_months credit_score  \\\n",
       "0      Asset Acquisition                         24          645   \n",
       "1  Bundled Services Loan                         12          581   \n",
       "2             Input Loan                          9          585   \n",
       "3                    NaN                          0          523   \n",
       "4      Asset Acquisition                         18          666   \n",
       "\n",
       "   creditworthiness_category max_recommended_loan_ngn  \\\n",
       "0                       Good                 646000.0   \n",
       "1                       Fair                2091000.0   \n",
       "2                       Fair                 258000.0   \n",
       "3                       Poor                 627000.0   \n",
       "4                  Very Good                 392000.0   \n",
       "\n",
       "                              suitable_loan_products  \\\n",
       "0  Input Finance, Microfinance Starter, Working C...   \n",
       "1  Crop Insurance Partnership, Digital Finance So...   \n",
       "2  Crop Insurance Partnership, Digital Finance So...   \n",
       "3    Digital Finance Solutions, Microfinance Starter   \n",
       "4  Digital Finance Solutions, Input Finance, Land...   \n",
       "\n",
       "   predicted_default_probability_current_loan predicted_loan_repayment_outcome  \n",
       "0                                      0.0919            Likely Full Repayment  \n",
       "1                                      0.1141            Likely Full Repayment  \n",
       "2                                      0.1002            Likely Full Repayment  \n",
       "3                                      0.0000                              NaN  \n",
       "4                                      0.0991            Likely Full Repayment  \n",
       "\n",
       "[5 rows x 85 columns]"
      ]
     },
     "execution_count": 251,
     "metadata": {},
     "output_type": "execute_result"
    }
   ],
   "source": [
    "data.head()"
   ]
  },
  {
   "cell_type": "code",
   "execution_count": 293,
   "id": "7e167029-0e4a-4438-8765-c208e150b566",
   "metadata": {},
   "outputs": [
    {
     "name": "stdout",
     "output_type": "stream",
     "text": [
      "<class 'pandas.core.frame.DataFrame'>\n",
      "RangeIndex: 10000 entries, 0 to 9999\n",
      "Data columns (total 85 columns):\n",
      " #   Column                                      Non-Null Count  Dtype  \n",
      "---  ------                                      --------------  -----  \n",
      " 0   farmer_id                                   10000 non-null  object \n",
      " 1   age                                         10000 non-null  int64  \n",
      " 2   gender                                      10000 non-null  object \n",
      " 3   education_category                          10000 non-null  object \n",
      " 4   education_level_years                       10000 non-null  int64  \n",
      " 5   marital_status                              10000 non-null  object \n",
      " 6   household_size                              10000 non-null  int64  \n",
      " 7   state                                       10000 non-null  object \n",
      " 8   region                                      10000 non-null  object \n",
      " 9   has_off_farm_income                         10000 non-null  bool   \n",
      " 10  annual_off_farm_income_ngn                  10000 non-null  float64\n",
      " 11  farming_experience_years                    10000 non-null  int64  \n",
      " 12  farm_size_ha                                10000 non-null  float64\n",
      " 13  farm_size_category                          10000 non-null  object \n",
      " 14  land_acquisition_method                     10000 non-null  object \n",
      " 15  has_land_title                              10000 non-null  bool   \n",
      " 16  primary_crop                                10000 non-null  object \n",
      " 17  secondary_crop                              8933 non-null   object \n",
      " 18  owns_livestock                              10000 non-null  bool   \n",
      " 19  livestock_type                              4006 non-null   object \n",
      " 20  primary_livestock_use                       4006 non-null   object \n",
      " 21  uses_improved_seeds                         10000 non-null  bool   \n",
      " 22  uses_fertilizer                             10000 non-null  bool   \n",
      " 23  uses_irrigation                             10000 non-null  bool   \n",
      " 24  pest_disease_control_method                 7969 non-null   object \n",
      " 25  soil_type_known                             10000 non-null  bool   \n",
      " 26  uses_extension_services                     10000 non-null  bool   \n",
      " 27  annual_farm_yield_tons_per_ha               10000 non-null  float64\n",
      " 28  total_production_tons                       10000 non-null  float64\n",
      " 29  crop_price_per_ton_ngn                      10000 non-null  int64  \n",
      " 30  annual_farm_revenue_ngn                     10000 non-null  float64\n",
      " 31  annual_farm_expenses_ngn                    10000 non-null  float64\n",
      " 32  farm_profit_ngn                             10000 non-null  float64\n",
      " 33  total_annual_income_ngn                     10000 non-null  float64\n",
      " 34  income_per_capita_ngn                       10000 non-null  float64\n",
      " 35  yield_consistency_rating                    10000 non-null  object \n",
      " 36  post_harvest_loss_perc                      10000 non-null  float64\n",
      " 37  percentage_sold_unprocessed                 10000 non-null  float64\n",
      " 38  percentage_consumed                         10000 non-null  float64\n",
      " 39  has_storage_facility                        10000 non-null  bool   \n",
      " 40  has_weather_insurance                       10000 non-null  bool   \n",
      " 41  owns_tractor                                10000 non-null  bool   \n",
      " 42  owns_plow                                   10000 non-null  bool   \n",
      " 43  owns_sprayer                                10000 non-null  bool   \n",
      " 44  owns_wheelbarrow                            10000 non-null  bool   \n",
      " 45  owns_cutlass                                10000 non-null  bool   \n",
      " 46  owns_sickle                                 10000 non-null  bool   \n",
      " 47  has_bank_account                            10000 non-null  bool   \n",
      " 48  has_formal_id                               10000 non-null  bool   \n",
      " 49  smartphone_owner                            10000 non-null  bool   \n",
      " 50  mobile_money_usage_frequency                10000 non-null  object \n",
      " 51  monthly_mobile_spend_naira                  10000 non-null  int64  \n",
      " 52  social_media_usage                          4423 non-null   object \n",
      " 53  ecommerce_activity                          10000 non-null  bool   \n",
      " 54  active_on_agri_forums                       10000 non-null  bool   \n",
      " 55  digital_footprint_score_1_10                10000 non-null  int64  \n",
      " 56  utility_bill_payment_score_1_10             10000 non-null  int64  \n",
      " 57  mobile_money_activity_score_1_10            10000 non-null  int64  \n",
      " 58  utility_payment_timeliness                  10000 non-null  object \n",
      " 59  rent_payment_timeliness                     620 non-null    object \n",
      " 60  phone_bill_timeliness                       10000 non-null  object \n",
      " 61  last_utility_payment_date                   10000 non-null  object \n",
      " 62  last_rent_payment_date                      620 non-null    object \n",
      " 63  cooperative_member                          10000 non-null  bool   \n",
      " 64  cooperative_repayment_rate_percent          10000 non-null  int64  \n",
      " 65  value_chain_platform_registered             10000 non-null  bool   \n",
      " 66  years_on_platform                           10000 non-null  int64  \n",
      " 67  marketplace_sales_ngn_last_year             10000 non-null  float64\n",
      " 68  distance_to_market_km                       10000 non-null  float64\n",
      " 69  distance_to_bank_km                         10000 non-null  float64\n",
      " 70  has_prior_loan                              10000 non-null  bool   \n",
      " 71  prior_loan_amount_ngn                       10000 non-null  float64\n",
      " 72  prior_loan_repayment_rate                   10000 non-null  float64\n",
      " 73  prior_loan_repayment_history                2521 non-null   object \n",
      " 74  prior_loan_purpose                          2521 non-null   object \n",
      " 75  requests_loan_now                           10000 non-null  bool   \n",
      " 76  loan_amount_requested_ngn                   10000 non-null  float64\n",
      " 77  current_loan_purpose                        4985 non-null   object \n",
      " 78  current_loan_tenure_months                  10000 non-null  int64  \n",
      " 79  credit_score                                10000 non-null  int64  \n",
      " 80  creditworthiness_category                   10000 non-null  object \n",
      " 81  max_recommended_loan_ngn                    10000 non-null  float64\n",
      " 82  suitable_loan_products                      10000 non-null  object \n",
      " 83  predicted_default_probability_current_loan  10000 non-null  float64\n",
      " 84  predicted_loan_repayment_outcome            4985 non-null   object \n",
      "dtypes: bool(25), float64(20), int64(13), object(27)\n",
      "memory usage: 4.8+ MB\n"
     ]
    }
   ],
   "source": [
    "data.info()"
   ]
  },
  {
   "cell_type": "code",
   "execution_count": 255,
   "id": "5751af63-4554-43fa-8f9c-8f5bc35f675a",
   "metadata": {},
   "outputs": [
    {
     "data": {
      "text/plain": [
       "(10000, 85)"
      ]
     },
     "execution_count": 255,
     "metadata": {},
     "output_type": "execute_result"
    }
   ],
   "source": [
    "data.shape"
   ]
  },
  {
   "cell_type": "code",
   "execution_count": 126,
   "id": "85cb9c00-b881-46d8-8a5d-3f9761d6ba09",
   "metadata": {},
   "outputs": [],
   "source": [
    "X = data.drop(\"credit_score\", axis=1) \n",
    "\n",
    "y = data[\"credit_score\"]\n"
   ]
  },
  {
   "cell_type": "markdown",
   "id": "0cd7cf18-ab67-46cf-9ec8-ccedb9f2fadc",
   "metadata": {},
   "source": [
    "# Feature Selection with Scaling and Chi-Squared Test\n",
    "\n",
    "### Step 1: Scale `X_encoded` to non-negative values using `MinMaxScaler`\n",
    "We use the `MinMaxScaler` to scale the features of `X_encoded` into the range of 0 to 1.\n",
    "\n",
    "\n"
   ]
  },
  {
   "cell_type": "code",
   "execution_count": 152,
   "id": "2c934849-405c-440a-a01c-a5fbe0791af8",
   "metadata": {},
   "outputs": [
    {
     "name": "stdout",
     "output_type": "stream",
     "text": [
      "Selected Features: ['has_off_farm_income', 'has_land_title', 'has_weather_insurance', 'smartphone_owner', 'mobile_money_activity_score_1_10', 'cooperative_member', 'cooperative_repayment_rate_percent', 'has_prior_loan', 'prior_loan_repayment_rate', 'creditworthiness_category']\n"
     ]
    }
   ],
   "source": [
    "scaler = MinMaxScaler()\n",
    "\n",
    "X_scaled = scaler.fit_transform(X_encoded)\n",
    "selector = SelectKBest(score_func=chi2, k=10)\n",
    "X_new = selector.fit_transform(X_scaled, y)\n",
    "selected_features = X_encoded.columns[selector.get_support()]\n",
    "print(\"Selected Features:\", selected_features.tolist())\n"
   ]
  },
  {
   "cell_type": "markdown",
   "id": "40e579d9-e492-4230-a18d-619615cd43f4",
   "metadata": {},
   "source": [
    "# Feature Importance using Random Forest\n"
   ]
  },
  {
   "cell_type": "code",
   "execution_count": 181,
   "id": "b1c0eb05-3cff-4310-8b64-91a9d781caef",
   "metadata": {},
   "outputs": [
    {
     "name": "stdout",
     "output_type": "stream",
     "text": [
      "                            Feature  Importance\n",
      "40       monthly_mobile_spend_naira    0.033825\n",
      "25           post_harvest_loss_perc    0.033637\n",
      "53            distance_to_market_km    0.032730\n",
      "54              distance_to_bank_km    0.032673\n",
      "26      percentage_sold_unprocessed    0.031806\n",
      "27              percentage_consumed    0.031137\n",
      "23            income_per_capita_ngn    0.029360\n",
      "20         annual_farm_expenses_ngn    0.029262\n",
      "16    annual_farm_yield_tons_per_ha    0.029176\n",
      "0                               age    0.029039\n",
      "10                     farm_size_ha    0.028592\n",
      "9          farming_experience_years    0.028528\n",
      "62         max_recommended_loan_ngn    0.028423\n",
      "17            total_production_tons    0.027864\n",
      "22          total_annual_income_ngn    0.026787\n",
      "21                  farm_profit_ngn    0.026684\n",
      "19          annual_farm_revenue_ngn    0.025873\n",
      "5                    household_size    0.023891\n",
      "43     digital_footprint_score_1_10    0.022513\n",
      "44  utility_bill_payment_score_1_10    0.022473\n"
     ]
    }
   ],
   "source": [
    "rf_model = RandomForestClassifier(n_estimators=100, random_state=42)\n",
    "rf_model.fit(X_encoded, y)\n",
    "\n",
    "# Get feature importances\n",
    "feature_importances = rf_model.feature_importances_\n",
    "\n",
    "# Create a DataFrame to show feature names and their importance scores\n",
    "feature_importance_df = pd.DataFrame({\n",
    "    'Feature': X_encoded.columns,\n",
    "    'Importance': feature_importances\n",
    "})\n",
    "\n",
    "# Sort features by importance (highest to lowest)\n",
    "feature_importance_df = feature_importance_df.sort_values(by='Importance', ascending=False)\n",
    "\n",
    "# Display the top features\n",
    "print(feature_importance_df.head(20))  \n",
    "\n",
    "#  select top N features (e.g., top 20 features)\n",
    "top_n_features = feature_importance_df.head(20)['Feature']\n",
    "X_selected = X_encoded[top_n_features]\n",
    "\n"
   ]
  },
  {
   "cell_type": "code",
   "execution_count": 353,
   "id": "74a95d5e-880c-48e4-ac96-73cc81248a10",
   "metadata": {},
   "outputs": [],
   "source": [
    "data1=data[[\n",
    "    'monthly_mobile_spend_naira',\n",
    "    'post_harvest_loss_perc',\n",
    "    'distance_to_market_km',\n",
    "    'distance_to_bank_km',\n",
    "    'percentage_sold_unprocessed',\n",
    "    'percentage_consumed',\n",
    "    'income_per_capita_ngn',\n",
    "    'annual_farm_revenue_ngn',\n",
    "    'annual_farm_yield_tons_per_ha',\n",
    "    'farm_size_ha',\n",
    "    'farming_experience_years',\n",
    "    'age',\n",
    "    'education_category',\n",
    "    'primary_crop',\n",
    "    'mobile_money_usage_frequency',\n",
    "    'creditworthiness_category',\n",
    "    'mobile_money_activity_score_1_10',\n",
    "    'cooperative_repayment_rate_percent',\n",
    "    'prior_loan_repayment_rate',\n",
    "    'has_off_farm_income',\n",
    "    'credit_score',\n",
    "    'gender',\n",
    "    'has_land_title',\n",
    "    'has_weather_insurance',\n",
    "    'smartphone_owner',\n",
    "    'cooperative_member',\n",
    "    'has_prior_loan',\n",
    "    'household_size'\n",
    "]]"
   ]
  },
  {
   "cell_type": "code",
   "execution_count": 355,
   "id": "1d0a1663-b775-4e90-a4b1-eb7b1713b7cf",
   "metadata": {},
   "outputs": [
    {
     "data": {
      "text/plain": [
       "(10000, 28)"
      ]
     },
     "execution_count": 355,
     "metadata": {},
     "output_type": "execute_result"
    }
   ],
   "source": [
    "data1.shape"
   ]
  },
  {
   "cell_type": "code",
   "execution_count": null,
   "id": "1c7ca46a-5ad4-4d25-8468-657c53dd2728",
   "metadata": {},
   "outputs": [],
   "source": [
    "data1.to_csv(r\"C:\\Users\\HP\\Downloads\\GITHUB\\codestorm_hackathon\\data\\filtered_data.csv\", index=False)\n"
   ]
  },
  {
   "cell_type": "code",
   "execution_count": 206,
   "id": "d08e8984-3fb5-4438-9b60-8780044ed1c7",
   "metadata": {},
   "outputs": [
    {
     "data": {
      "text/plain": [
       "count    10000.000000\n",
       "mean        15.936400\n",
       "std         11.087662\n",
       "min          1.000000\n",
       "25%          7.000000\n",
       "50%         14.000000\n",
       "75%         24.000000\n",
       "max         45.000000\n",
       "Name: farming_experience_years, dtype: float64"
      ]
     },
     "execution_count": 206,
     "metadata": {},
     "output_type": "execute_result"
    }
   ],
   "source": [
    "data['farming_experience_years'].describe()"
   ]
  },
  {
   "cell_type": "code",
   "execution_count": 113,
   "id": "b84a747a-28d7-454a-b42e-2f2454501d3c",
   "metadata": {},
   "outputs": [
    {
     "data": {
      "text/plain": [
       "has_prior_loan\n",
       "False    7479\n",
       "True     2521\n",
       "Name: count, dtype: int64"
      ]
     },
     "execution_count": 113,
     "metadata": {},
     "output_type": "execute_result"
    }
   ],
   "source": [
    "data['has_prior_loan'].value_counts()"
   ]
  },
  {
   "cell_type": "code",
   "execution_count": 6,
   "id": "d4d67f64-636b-4f50-af6e-6ec492d31697",
   "metadata": {},
   "outputs": [],
   "source": [
    "data2=pd.read_csv(r\"C:\\Users\\HP\\Downloads\\GITHUB\\codestorm_hackathon\\data\\filtered_data.csv\")"
   ]
  },
  {
   "cell_type": "code",
   "execution_count": 9,
   "id": "5d55cb38-e686-40fe-b399-4c731a56b52d",
   "metadata": {},
   "outputs": [
    {
     "data": {
      "text/html": [
       "<div>\n",
       "<style scoped>\n",
       "    .dataframe tbody tr th:only-of-type {\n",
       "        vertical-align: middle;\n",
       "    }\n",
       "\n",
       "    .dataframe tbody tr th {\n",
       "        vertical-align: top;\n",
       "    }\n",
       "\n",
       "    .dataframe thead th {\n",
       "        text-align: right;\n",
       "    }\n",
       "</style>\n",
       "<table border=\"1\" class=\"dataframe\">\n",
       "  <thead>\n",
       "    <tr style=\"text-align: right;\">\n",
       "      <th></th>\n",
       "      <th>monthly_mobile_spend_naira</th>\n",
       "      <th>post_harvest_loss_perc</th>\n",
       "      <th>distance_to_market_km</th>\n",
       "      <th>distance_to_bank_km</th>\n",
       "      <th>percentage_sold_unprocessed</th>\n",
       "      <th>percentage_consumed</th>\n",
       "      <th>income_per_capita_ngn</th>\n",
       "      <th>annual_farm_revenue_ngn</th>\n",
       "      <th>annual_farm_yield_tons_per_ha</th>\n",
       "      <th>farm_size_ha</th>\n",
       "      <th>...</th>\n",
       "      <th>prior_loan_repayment_rate</th>\n",
       "      <th>has_off_farm_income</th>\n",
       "      <th>credit_score</th>\n",
       "      <th>gender</th>\n",
       "      <th>has_land_title</th>\n",
       "      <th>has_weather_insurance</th>\n",
       "      <th>smartphone_owner</th>\n",
       "      <th>cooperative_member</th>\n",
       "      <th>has_prior_loan</th>\n",
       "      <th>household_size</th>\n",
       "    </tr>\n",
       "  </thead>\n",
       "  <tbody>\n",
       "    <tr>\n",
       "      <th>0</th>\n",
       "      <td>261</td>\n",
       "      <td>35.35</td>\n",
       "      <td>54.2</td>\n",
       "      <td>98.5</td>\n",
       "      <td>26.7</td>\n",
       "      <td>35.3</td>\n",
       "      <td>184800.0</td>\n",
       "      <td>924000.0</td>\n",
       "      <td>24.85</td>\n",
       "      <td>0.31</td>\n",
       "      <td>...</td>\n",
       "      <td>0.00</td>\n",
       "      <td>False</td>\n",
       "      <td>645</td>\n",
       "      <td>Male</td>\n",
       "      <td>False</td>\n",
       "      <td>False</td>\n",
       "      <td>False</td>\n",
       "      <td>True</td>\n",
       "      <td>False</td>\n",
       "      <td>5</td>\n",
       "    </tr>\n",
       "    <tr>\n",
       "      <th>1</th>\n",
       "      <td>1198</td>\n",
       "      <td>13.51</td>\n",
       "      <td>18.0</td>\n",
       "      <td>87.5</td>\n",
       "      <td>23.1</td>\n",
       "      <td>34.1</td>\n",
       "      <td>708200.0</td>\n",
       "      <td>6978000.0</td>\n",
       "      <td>14.24</td>\n",
       "      <td>1.75</td>\n",
       "      <td>...</td>\n",
       "      <td>0.00</td>\n",
       "      <td>True</td>\n",
       "      <td>581</td>\n",
       "      <td>Male</td>\n",
       "      <td>False</td>\n",
       "      <td>False</td>\n",
       "      <td>True</td>\n",
       "      <td>False</td>\n",
       "      <td>False</td>\n",
       "      <td>10</td>\n",
       "    </tr>\n",
       "    <tr>\n",
       "      <th>2</th>\n",
       "      <td>3766</td>\n",
       "      <td>40.15</td>\n",
       "      <td>17.7</td>\n",
       "      <td>7.3</td>\n",
       "      <td>7.2</td>\n",
       "      <td>15.3</td>\n",
       "      <td>231250.0</td>\n",
       "      <td>925000.0</td>\n",
       "      <td>2.41</td>\n",
       "      <td>2.02</td>\n",
       "      <td>...</td>\n",
       "      <td>0.00</td>\n",
       "      <td>False</td>\n",
       "      <td>585</td>\n",
       "      <td>Male</td>\n",
       "      <td>False</td>\n",
       "      <td>False</td>\n",
       "      <td>True</td>\n",
       "      <td>False</td>\n",
       "      <td>False</td>\n",
       "      <td>4</td>\n",
       "    </tr>\n",
       "    <tr>\n",
       "      <th>3</th>\n",
       "      <td>2236</td>\n",
       "      <td>37.02</td>\n",
       "      <td>20.3</td>\n",
       "      <td>107.5</td>\n",
       "      <td>28.7</td>\n",
       "      <td>9.9</td>\n",
       "      <td>296917.0</td>\n",
       "      <td>3563000.0</td>\n",
       "      <td>4.12</td>\n",
       "      <td>2.47</td>\n",
       "      <td>...</td>\n",
       "      <td>0.49</td>\n",
       "      <td>False</td>\n",
       "      <td>523</td>\n",
       "      <td>Male</td>\n",
       "      <td>False</td>\n",
       "      <td>False</td>\n",
       "      <td>True</td>\n",
       "      <td>True</td>\n",
       "      <td>True</td>\n",
       "      <td>12</td>\n",
       "    </tr>\n",
       "    <tr>\n",
       "      <th>4</th>\n",
       "      <td>3159</td>\n",
       "      <td>42.39</td>\n",
       "      <td>65.3</td>\n",
       "      <td>24.5</td>\n",
       "      <td>7.7</td>\n",
       "      <td>16.4</td>\n",
       "      <td>206667.0</td>\n",
       "      <td>226000.0</td>\n",
       "      <td>2.90</td>\n",
       "      <td>0.41</td>\n",
       "      <td>...</td>\n",
       "      <td>0.00</td>\n",
       "      <td>True</td>\n",
       "      <td>666</td>\n",
       "      <td>Male</td>\n",
       "      <td>False</td>\n",
       "      <td>False</td>\n",
       "      <td>True</td>\n",
       "      <td>False</td>\n",
       "      <td>False</td>\n",
       "      <td>3</td>\n",
       "    </tr>\n",
       "  </tbody>\n",
       "</table>\n",
       "<p>5 rows × 28 columns</p>\n",
       "</div>"
      ],
      "text/plain": [
       "   monthly_mobile_spend_naira  post_harvest_loss_perc  distance_to_market_km  \\\n",
       "0                         261                   35.35                   54.2   \n",
       "1                        1198                   13.51                   18.0   \n",
       "2                        3766                   40.15                   17.7   \n",
       "3                        2236                   37.02                   20.3   \n",
       "4                        3159                   42.39                   65.3   \n",
       "\n",
       "   distance_to_bank_km  percentage_sold_unprocessed  percentage_consumed  \\\n",
       "0                 98.5                         26.7                 35.3   \n",
       "1                 87.5                         23.1                 34.1   \n",
       "2                  7.3                          7.2                 15.3   \n",
       "3                107.5                         28.7                  9.9   \n",
       "4                 24.5                          7.7                 16.4   \n",
       "\n",
       "   income_per_capita_ngn  annual_farm_revenue_ngn  \\\n",
       "0               184800.0                 924000.0   \n",
       "1               708200.0                6978000.0   \n",
       "2               231250.0                 925000.0   \n",
       "3               296917.0                3563000.0   \n",
       "4               206667.0                 226000.0   \n",
       "\n",
       "   annual_farm_yield_tons_per_ha  farm_size_ha  ...  \\\n",
       "0                          24.85          0.31  ...   \n",
       "1                          14.24          1.75  ...   \n",
       "2                           2.41          2.02  ...   \n",
       "3                           4.12          2.47  ...   \n",
       "4                           2.90          0.41  ...   \n",
       "\n",
       "   prior_loan_repayment_rate  has_off_farm_income credit_score gender  \\\n",
       "0                       0.00                False          645   Male   \n",
       "1                       0.00                 True          581   Male   \n",
       "2                       0.00                False          585   Male   \n",
       "3                       0.49                False          523   Male   \n",
       "4                       0.00                 True          666   Male   \n",
       "\n",
       "  has_land_title has_weather_insurance  smartphone_owner  cooperative_member  \\\n",
       "0          False                 False             False                True   \n",
       "1          False                 False              True               False   \n",
       "2          False                 False              True               False   \n",
       "3          False                 False              True                True   \n",
       "4          False                 False              True               False   \n",
       "\n",
       "   has_prior_loan  household_size  \n",
       "0           False               5  \n",
       "1           False              10  \n",
       "2           False               4  \n",
       "3            True              12  \n",
       "4           False               3  \n",
       "\n",
       "[5 rows x 28 columns]"
      ]
     },
     "execution_count": 9,
     "metadata": {},
     "output_type": "execute_result"
    }
   ],
   "source": [
    "data2.head()"
   ]
  },
  {
   "cell_type": "code",
   "execution_count": 11,
   "id": "2825fbb4-b8a0-4be5-a314-02e2ed713e37",
   "metadata": {},
   "outputs": [
    {
     "name": "stdout",
     "output_type": "stream",
     "text": [
      "<class 'pandas.core.frame.DataFrame'>\n",
      "RangeIndex: 10000 entries, 0 to 9999\n",
      "Data columns (total 28 columns):\n",
      " #   Column                              Non-Null Count  Dtype  \n",
      "---  ------                              --------------  -----  \n",
      " 0   monthly_mobile_spend_naira          10000 non-null  int64  \n",
      " 1   post_harvest_loss_perc              10000 non-null  float64\n",
      " 2   distance_to_market_km               10000 non-null  float64\n",
      " 3   distance_to_bank_km                 10000 non-null  float64\n",
      " 4   percentage_sold_unprocessed         10000 non-null  float64\n",
      " 5   percentage_consumed                 10000 non-null  float64\n",
      " 6   income_per_capita_ngn               10000 non-null  float64\n",
      " 7   annual_farm_revenue_ngn             10000 non-null  float64\n",
      " 8   annual_farm_yield_tons_per_ha       10000 non-null  float64\n",
      " 9   farm_size_ha                        10000 non-null  float64\n",
      " 10  farming_experience_years            10000 non-null  int64  \n",
      " 11  age                                 10000 non-null  int64  \n",
      " 12  education_category                  10000 non-null  object \n",
      " 13  primary_crop                        10000 non-null  object \n",
      " 14  mobile_money_usage_frequency        10000 non-null  object \n",
      " 15  creditworthiness_category           10000 non-null  object \n",
      " 16  mobile_money_activity_score_1_10    10000 non-null  int64  \n",
      " 17  cooperative_repayment_rate_percent  10000 non-null  int64  \n",
      " 18  prior_loan_repayment_rate           10000 non-null  float64\n",
      " 19  has_off_farm_income                 10000 non-null  bool   \n",
      " 20  credit_score                        10000 non-null  int64  \n",
      " 21  gender                              10000 non-null  object \n",
      " 22  has_land_title                      10000 non-null  bool   \n",
      " 23  has_weather_insurance               10000 non-null  bool   \n",
      " 24  smartphone_owner                    10000 non-null  bool   \n",
      " 25  cooperative_member                  10000 non-null  bool   \n",
      " 26  has_prior_loan                      10000 non-null  bool   \n",
      " 27  household_size                      10000 non-null  int64  \n",
      "dtypes: bool(6), float64(10), int64(7), object(5)\n",
      "memory usage: 1.7+ MB\n"
     ]
    }
   ],
   "source": [
    "data2.info()"
   ]
  },
  {
   "cell_type": "code",
   "execution_count": 13,
   "id": "6ce4b4b5-ce85-4d3f-b6b9-d204d69a99d8",
   "metadata": {},
   "outputs": [
    {
     "data": {
      "text/plain": [
       "0"
      ]
     },
     "execution_count": 13,
     "metadata": {},
     "output_type": "execute_result"
    }
   ],
   "source": [
    "data2.duplicated().sum()\n"
   ]
  },
  {
   "cell_type": "code",
   "execution_count": 27,
   "id": "5bdbf0d6-0351-43d8-a5cc-6dbeece572b7",
   "metadata": {},
   "outputs": [
    {
     "data": {
      "text/plain": [
       "count    10000.00000\n",
       "mean       606.85420\n",
       "std         65.55391\n",
       "min        378.00000\n",
       "25%        564.00000\n",
       "50%        606.00000\n",
       "75%        650.00000\n",
       "max        850.00000\n",
       "Name: credit_score, dtype: float64"
      ]
     },
     "execution_count": 27,
     "metadata": {},
     "output_type": "execute_result"
    }
   ],
   "source": [
    "data2['credit_score'].describe()"
   ]
  },
  {
   "cell_type": "code",
   "execution_count": null,
   "id": "730845a3-a6b6-44b8-abb1-1502e8974f24",
   "metadata": {},
   "outputs": [],
   "source": []
  },
  {
   "cell_type": "markdown",
   "id": "db420bdd-e396-4284-bf59-154ff8e958e3",
   "metadata": {},
   "source": [
    "# Random Forest Regressor for credit_score"
   ]
  },
  {
   "cell_type": "code",
   "execution_count": 708,
   "id": "0f2e4e61-203e-46d7-b80a-93d2b1bebb63",
   "metadata": {},
   "outputs": [
    {
     "data": {
      "image/png": "[encoded data removed]",
      "text/plain": [
       "<Figure size 600x400 with 1 Axes>"
      ]
     },
     "metadata": {},
     "output_type": "display_data"
    },
    {
     "name": "stdout",
     "output_type": "stream",
     "text": [
      "Skewness of credit_score: 0.06882566945614213\n"
     ]
    }
   ],
   "source": [
    "# Plot histogram for credit_score\n",
    "plt.figure(figsize=(6, 4))\n",
    "sns.histplot(data2['credit_score'], kde=True, bins=30)\n",
    "plt.title('Distribution of Credit Score')\n",
    "plt.xlabel('Credit Score')\n",
    "plt.ylabel('Frequency')\n",
    "plt.show()\n",
    "\n",
    "# Check skewness\n",
    "credit_score_skewness = skew(data2['credit_score'])\n",
    "print(f\"Skewness of credit_score: {credit_score_skewness}\")\n"
   ]
  },
  {
   "cell_type": "code",
   "execution_count": 314,
   "id": "38df05cc-f74c-44b9-a788-ca8d47bc38e5",
   "metadata": {},
   "outputs": [],
   "source": [
    "X = data2.drop(['credit_score', 'creditworthiness_category'], axis=1)  \n",
    "y = data2['credit_score']\n",
    "\n",
    "X_train, X_test, y_train, y_test = train_test_split(X, y, test_size=0.2, random_state=42)\n"
   ]
  },
  {
   "cell_type": "code",
   "execution_count": 710,
   "id": "73f88925-31c3-4b41-80f4-81548fa1c3e1",
   "metadata": {},
   "outputs": [
    {
     "name": "stdout",
     "output_type": "stream",
     "text": [
      "Fitting 5 folds for each of 50 candidates, totalling 250 fits\n",
      "Best Hyperparameters: {'n_estimators': 1000, 'min_samples_split': 2, 'min_samples_leaf': 1, 'max_features': 'sqrt', 'max_depth': None, 'bootstrap': False}\n"
     ]
    }
   ],
   "source": [
    "param_dist = {\n",
    "    'n_estimators': np.arange(100, 1001, 100),\n",
    "    'max_depth': [None, 10, 20, 30, 40],\n",
    "    'min_samples_split': [2, 5, 10],\n",
    "    'min_samples_leaf': [1, 2, 4],\n",
    "    'max_features': ['sqrt', 'log2'],  # removed 'auto' for compatibility\n",
    "    'bootstrap': [True, False]\n",
    "}\n",
    "\n",
    "rf_regressor = RandomForestRegressor(random_state=42)\n",
    "\n",
    "# Set up RandomizedSearchCV\n",
    "random_search = RandomizedSearchCV(\n",
    "    estimator=rf_regressor,\n",
    "    param_distributions=param_dist,\n",
    "    n_iter=50,\n",
    "    cv=5,\n",
    "    verbose=1,\n",
    "    n_jobs=-1,\n",
    "    random_state=42,\n",
    "    scoring='neg_mean_squared_error'\n",
    ")\n",
    "\n",
    "# Fit the model\n",
    "random_search.fit(X_train, y_train)\n",
    "\n",
    "# Best parameters\n",
    "best_params = random_search.best_params_\n",
    "print(\"Best Hyperparameters:\", best_params)\n"
   ]
  },
  {
   "cell_type": "code",
   "execution_count": 720,
   "id": "5ad6af08-c09f-4446-8c06-b5732ce1ee25",
   "metadata": {},
   "outputs": [
    {
     "name": "stdout",
     "output_type": "stream",
     "text": [
      "\n",
      "Model Evaluation:\n",
      "R2 Score: 0.7021495364327519\n",
      "MAE: 28.995637\n",
      "RMSE: 36.24937077624781\n"
     ]
    }
   ],
   "source": [
    "# best estimator to predict\n",
    "best_rf = random_search.best_estimator_\n",
    "y_pred = best_rf.predict(X_test)\n",
    "\n",
    "# Evaluate\n",
    "print(\"\\nModel Evaluation:\")\n",
    "print(\"R2 Score:\", r2_score(y_test, y_pred))\n",
    "print(\"MAE:\", mean_absolute_error(y_test, y_pred))\n",
    "print(\"RMSE:\", np.sqrt(mean_squared_error(y_test, y_pred)))\n"
   ]
  },
  {
   "cell_type": "code",
   "execution_count": 722,
   "id": "458c8a89-b0a9-48a7-a6c4-29714ff0defa",
   "metadata": {},
   "outputs": [
    {
     "data": {
      "text/plain": [
       "['random_forest_credit_score_model.pkl']"
      ]
     },
     "execution_count": 722,
     "metadata": {},
     "output_type": "execute_result"
    }
   ],
   "source": [
    "joblib.dump(best_rf, 'random_forest_credit_score_model.pkl')\n"
   ]
  },
  {
   "cell_type": "markdown",
   "id": "6a6f78b9-723a-4f69-b4a9-2daa090fd92b",
   "metadata": {},
   "source": [
    "# XGBoost Regressor for credit_score"
   ]
  },
  {
   "cell_type": "code",
   "execution_count": 19,
   "id": "bf205eb2-63ea-42c2-b269-92d7d39920b1",
   "metadata": {},
   "outputs": [],
   "source": [
    "# Encode the categorical columns BEFORE train-test split\n",
    "categorical_cols = [\n",
    "    'primary_crop',\n",
    "    'education_category',\n",
    "    'mobile_money_usage_frequency',\n",
    "    'creditworthiness_category',\n",
    "    'gender'\n",
    "]\n",
    "\n",
    "encoders = {}\n",
    "\n",
    "for col in categorical_cols:\n",
    "    le = LabelEncoder()\n",
    "    data2[col] = le.fit_transform(data2[col])\n",
    "    encoders[col] = le\n",
    "    joblib.dump(le, f\"{col}_encoder.pkl\")\n"
   ]
  },
  {
   "cell_type": "code",
   "execution_count": 21,
   "id": "032b563e-8383-407e-b0e6-f0d23959271d",
   "metadata": {},
   "outputs": [],
   "source": [
    "X = data2.drop(['credit_score'], axis=1)  \n",
    "y = data2['credit_score']\n",
    "\n",
    "X_train, X_test, y_train, y_test = train_test_split(X, y, test_size=0.2, random_state=42)\n",
    "\n"
   ]
  },
  {
   "cell_type": "code",
   "execution_count": 25,
   "id": "7e24efe2-4956-4e72-87b1-1e2006f2f52f",
   "metadata": {},
   "outputs": [
    {
     "name": "stdout",
     "output_type": "stream",
     "text": [
      "Fitting 5 folds for each of 50 candidates, totalling 250 fits\n",
      "Best Hyperparameters: {'subsample': 0.8, 'reg_lambda': 2, 'reg_alpha': 1, 'n_estimators': 700, 'max_depth': 3, 'learning_rate': 0.05, 'gamma': 0, 'colsample_bytree': 0.6}\n",
      "\n",
      "Model Evaluation:\n",
      "R2 Score: 0.9441562294960022\n",
      "MAE: 12.748765197753906\n",
      "RMSE: 15.69598602103068\n"
     ]
    }
   ],
   "source": [
    "# Define the XGBoost regressor\n",
    "xgb = XGBRegressor(random_state=42, objective='reg:squarederror')\n",
    "\n",
    "# Hyperparameter grid\n",
    "param_dist = {\n",
    "    'n_estimators': np.arange(100, 1001, 100),\n",
    "    'max_depth': [3, 5, 7, 10],\n",
    "    'learning_rate': [0.01, 0.05, 0.1, 0.2],\n",
    "    'subsample': [0.6, 0.8, 1.0],\n",
    "    'colsample_bytree': [0.6, 0.8, 1.0],\n",
    "    'gamma': [0, 1, 5],\n",
    "    'reg_alpha': [0, 0.1, 1],\n",
    "    'reg_lambda': [1, 1.5, 2]\n",
    "}\n",
    "\n",
    "# RandomizedSearchCV setup\n",
    "random_search = RandomizedSearchCV(\n",
    "    estimator=xgb,\n",
    "    param_distributions=param_dist,\n",
    "    n_iter=50,\n",
    "    scoring='r2',\n",
    "    cv=5,\n",
    "    verbose=1,\n",
    "    n_jobs=-1,\n",
    "    random_state=42\n",
    ")\n",
    "\n",
    "# Fit on training data\n",
    "random_search.fit(X_train, y_train)\n",
    "\n",
    "# Best model\n",
    "best_xgb = random_search.best_estimator_\n",
    "\n",
    "# Predict and evaluate\n",
    "y_pred = best_xgb.predict(X_test)\n",
    "\n",
    "print(\"Best Hyperparameters:\", random_search.best_params_)\n",
    "print(\"\\nModel Evaluation:\")\n",
    "print(\"R2 Score:\", r2_score(y_test, y_pred))\n",
    "print(\"MAE:\", mean_absolute_error(y_test, y_pred))\n",
    "print(\"RMSE:\", np.sqrt(mean_squared_error(y_test, y_pred)))\n"
   ]
  },
  {
   "cell_type": "code",
   "execution_count": 225,
   "id": "59e24793-14a0-4b46-821b-7998baf7be19",
   "metadata": {},
   "outputs": [
    {
     "data": {
      "text/plain": [
       "['xgboost_credit_score_model.pkl']"
      ]
     },
     "execution_count": 225,
     "metadata": {},
     "output_type": "execute_result"
    }
   ],
   "source": [
    "# Save the trained XGBoost model\n",
    "joblib.dump(best_xgb, 'xgboost_credit_score_model.pkl')\n"
   ]
  },
  {
   "cell_type": "markdown",
   "id": "c2ea8de7-7ffd-4d28-bda2-efbc487ccb90",
   "metadata": {},
   "source": [
    "# Gradient BoostingRegressor for credit_score"
   ]
  },
  {
   "cell_type": "code",
   "execution_count": 734,
   "id": "e82368e9-548f-4b04-b69b-97160f54d18b",
   "metadata": {},
   "outputs": [
    {
     "name": "stdout",
     "output_type": "stream",
     "text": [
      "Fitting 5 folds for each of 50 candidates, totalling 250 fits\n",
      "Best Hyperparameters: {'subsample': 0.8, 'n_estimators': 400, 'min_samples_split': 10, 'min_samples_leaf': 4, 'max_features': 'sqrt', 'max_depth': 3, 'learning_rate': 0.1}\n",
      "\n",
      "Model Evaluation (GradientBoostingRegressor):\n",
      "R2 Score: 0.7607041015073955\n",
      "MAE: 26.003728769929186\n",
      "RMSE: 32.49144001886063\n"
     ]
    },
    {
     "data": {
      "text/plain": [
       "['gradient_boosting_model.pkl']"
      ]
     },
     "execution_count": 734,
     "metadata": {},
     "output_type": "execute_result"
    }
   ],
   "source": [
    "# Define parameter grid\n",
    "param_dist = {\n",
    "    'n_estimators': [100, 200, 300, 400],\n",
    "    'learning_rate': [0.01, 0.05, 0.1, 0.2],\n",
    "    'max_depth': [3, 4, 5, 6],\n",
    "    'min_samples_split': [2, 5, 10],\n",
    "    'min_samples_leaf': [1, 2, 4],\n",
    "    'subsample': [0.8, 1.0],\n",
    "    'max_features': ['sqrt', 'log2']\n",
    "}\n",
    "\n",
    "# Initialize model\n",
    "gbr = GradientBoostingRegressor(random_state=42)\n",
    "\n",
    "# Set up RandomizedSearchCV\n",
    "random_search = RandomizedSearchCV(\n",
    "    estimator=gbr,\n",
    "    param_distributions=param_dist,\n",
    "    n_iter=50,\n",
    "    cv=5,\n",
    "    verbose=2,\n",
    "    random_state=42,\n",
    "    n_jobs=-1,\n",
    "    scoring='r2'\n",
    ")\n",
    "\n",
    "# Fit the model\n",
    "random_search.fit(X_train, y_train)\n",
    "\n",
    "# Best estimator\n",
    "best_gbr = random_search.best_estimator_\n",
    "print(\"Best Hyperparameters:\", random_search.best_params_)\n",
    "\n",
    "# Predict\n",
    "y_pred = best_gbr.predict(X_test)\n",
    "\n",
    "# Evaluate\n",
    "print(\"\\nModel Evaluation (GradientBoostingRegressor):\")\n",
    "print(\"R2 Score:\", r2_score(y_test, y_pred))\n",
    "print(\"MAE:\", mean_absolute_error(y_test, y_pred))\n",
    "print(\"RMSE:\", np.sqrt(mean_squared_error(y_test, y_pred)))\n",
    "\n",
    "# Save the model\n",
    "joblib.dump(best_gbr, 'gradient_boosting_model.pkl')\n"
   ]
  },
  {
   "cell_type": "markdown",
   "id": "77675d13-3869-467b-8011-cb9ad8c7da51",
   "metadata": {},
   "source": [
    "#  Gradient Boosting Classification creditworthiness_category"
   ]
  },
  {
   "cell_type": "code",
   "execution_count": 756,
   "id": "b2b8b12c-c125-4917-819d-b8302d8be2e3",
   "metadata": {},
   "outputs": [],
   "source": [
    "X = data2.drop('creditworthiness_category', axis=1)\n",
    "\n",
    "y = data2['creditworthiness_category']"
   ]
  },
  {
   "cell_type": "code",
   "execution_count": 765,
   "id": "8e21d6af-4a6f-4152-988b-651d4f8cb2b4",
   "metadata": {},
   "outputs": [],
   "source": [
    "X_train, X_test, y_train, y_test = train_test_split(\n",
    "    X, y, test_size=0.2, stratify=y, random_state=42\n",
    ")\n"
   ]
  },
  {
   "cell_type": "code",
   "execution_count": 767,
   "id": "87570a47-584c-4216-8797-ce78e9de69ce",
   "metadata": {},
   "outputs": [
    {
     "name": "stdout",
     "output_type": "stream",
     "text": [
      "Fitting 5 folds for each of 30 candidates, totalling 150 fits\n",
      "Best Parameters (Gradient Boosting): {'subsample': 0.6, 'n_estimators': 300, 'min_samples_split': 10, 'min_samples_leaf': 1, 'max_features': 'sqrt', 'max_depth': 5, 'learning_rate': 0.1}\n",
      "\n",
      "Evaluation:\n",
      "               precision    recall  f1-score   support\n",
      "\n",
      "   Very Poor       1.00      1.00      1.00        49\n",
      "        Poor       1.00      1.00      1.00       409\n",
      "        Fair       1.00      1.00      1.00       702\n",
      "        Good       1.00      1.00      1.00       434\n",
      "   Very Good       1.00      1.00      1.00       248\n",
      "   Excellent       1.00      1.00      1.00       158\n",
      "\n",
      "    accuracy                           1.00      2000\n",
      "   macro avg       1.00      1.00      1.00      2000\n",
      "weighted avg       1.00      1.00      1.00      2000\n",
      "\n"
     ]
    }
   ],
   "source": [
    "gb_param_grid = {\n",
    "    'n_estimators': [100, 200, 300],\n",
    "    'learning_rate': [0.01, 0.05, 0.1],\n",
    "    'max_depth': [3, 4, 5],\n",
    "    'min_samples_split': [2, 5, 10],\n",
    "    'min_samples_leaf': [1, 3, 5],\n",
    "    'subsample': [0.6, 0.8, 1.0],\n",
    "    'max_features': ['sqrt', 'log2']\n",
    "}\n",
    "\n",
    "gb_clf = GradientBoostingClassifier(random_state=42)\n",
    "gb_search = RandomizedSearchCV(gb_clf, gb_param_grid, n_iter=30, scoring='accuracy', cv=5, random_state=42, verbose=1, n_jobs=-1)\n",
    "gb_search.fit(X_train, y_train)\n",
    "\n",
    "# Best model\n",
    "best_gb = gb_search.best_estimator_\n",
    "gb_preds = best_gb.predict(X_test)\n",
    "\n",
    "print(\"Best Parameters (Gradient Boosting):\", gb_search.best_params_)\n",
    "print(\"\\nEvaluation:\\n\", classification_report(y_test, gb_preds, target_names=category_order))\n"
   ]
  },
  {
   "cell_type": "code",
   "execution_count": 794,
   "id": "91defee2-7409-4693-b5a2-cb4a2fe7a6ca",
   "metadata": {},
   "outputs": [
    {
     "data": {
      "text/plain": [
       "['gradient_boost_classifier.pkl']"
      ]
     },
     "execution_count": 794,
     "metadata": {},
     "output_type": "execute_result"
    }
   ],
   "source": [
    "# Save the model\n",
    "joblib.dump(best_gb, 'gradient_boost_classifier.pkl')"
   ]
  },
  {
   "cell_type": "markdown",
   "id": "3812fb5c-5b44-49ae-9183-07e710a3124d",
   "metadata": {},
   "source": [
    "Summary"
   ]
  },
  {
   "cell_type": "markdown",
   "id": "5b814d2f-e903-4319-9923-ef34b14610b9",
   "metadata": {},
   "source": [
    "| Model                 | R² Score  | MAE        | RMSE      |\n",
    "| --------------------- | --------- | ---------- | --------- |\n",
    "| **Random Forest**     | 0.702     | 28.996     | 36.25     |\n",
    "| **Gradient Boosting** | 0.761     | 26.004     | 32.49     |\n",
    "| **XGBoost**           | **0.944** | **12.748** | **15.69** |\n"
   ]
  },
  {
   "cell_type": "code",
   "execution_count": null,
   "id": "a33e0e10-9f1d-4a77-807c-b9e477d6ba98",
   "metadata": {},
   "outputs": [],
   "source": []
  }
 ],
 "metadata": {
  "kernelspec": {
   "display_name": "Python [conda env:base] *",
   "language": "python",
   "name": "conda-base-py"
  },
  "language_info": {
   "codemirror_mode": {
    "name": "ipython",
    "version": 3
   },
   "file_extension": ".py",
   "mimetype": "text/x-python",
   "name": "python",
   "nbconvert_exporter": "python",
   "pygments_lexer": "ipython3",
   "version": "3.12.7"
  }
 },
 "nbformat": 4,
 "nbformat_minor": 5
}
